{
  "cells": [
    {
      "cell_type": "markdown",
      "metadata": {},
      "source": [
        "# <p style=\"font-size: 24px;\">AKUSISI DATA.</p>\n"
      ]
    },
    {
      "cell_type": "code",
      "execution_count": 48,
      "metadata": {
        "id": "eOThPn0RGtb-"
      },
      "outputs": [],
      "source": [
        "import pandas as  pd\n",
        "from sklearn.feature_extraction.text import TfidfVectorizer, CountVectorizer\n",
        "from sklearn.metrics.pairwise import cosine_similarity"
      ]
    },
    {
      "cell_type": "code",
      "execution_count": 49,
      "metadata": {
        "id": "5LSVT1dLStaU"
      },
      "outputs": [],
      "source": [
        "data = pd.read_csv('top6000anime.csv')"
      ]
    },
    {
      "cell_type": "code",
      "execution_count": 50,
      "metadata": {
        "colab": {
          "base_uri": "https://localhost:8080/",
          "height": 397
        },
        "id": "5GJh4XqeS5JV",
        "outputId": "480b0391-4ee4-4dd6-a9a9-835a957726fd"
      },
      "outputs": [
        {
          "data": {
            "text/html": [
              "<div>\n",
              "<style scoped>\n",
              "    .dataframe tbody tr th:only-of-type {\n",
              "        vertical-align: middle;\n",
              "    }\n",
              "\n",
              "    .dataframe tbody tr th {\n",
              "        vertical-align: top;\n",
              "    }\n",
              "\n",
              "    .dataframe thead th {\n",
              "        text-align: right;\n",
              "    }\n",
              "</style>\n",
              "<table border=\"1\" class=\"dataframe\">\n",
              "  <thead>\n",
              "    <tr style=\"text-align: right;\">\n",
              "      <th></th>\n",
              "      <th>Unnamed: 0.2</th>\n",
              "      <th>anime_id</th>\n",
              "      <th>title</th>\n",
              "      <th>synopsis</th>\n",
              "      <th>mean</th>\n",
              "      <th>popularity</th>\n",
              "      <th>genres</th>\n",
              "      <th>start_date</th>\n",
              "      <th>num_list_users</th>\n",
              "      <th>media_type</th>\n",
              "      <th>studios</th>\n",
              "      <th>Unnamed: 0.1</th>\n",
              "      <th>Unnamed: 0</th>\n",
              "    </tr>\n",
              "  </thead>\n",
              "  <tbody>\n",
              "    <tr>\n",
              "      <th>0</th>\n",
              "      <td>0</td>\n",
              "      <td>1652</td>\n",
              "      <td>Uchuu Senkan Yamato III</td>\n",
              "      <td>A stray missile from a confrontation between t...</td>\n",
              "      <td>7.01</td>\n",
              "      <td>7756</td>\n",
              "      <td>['Action', 'Adult Cast', 'Adventure', 'Drama',...</td>\n",
              "      <td>1980-10-11</td>\n",
              "      <td>6935</td>\n",
              "      <td>tv</td>\n",
              "      <td>['Academy Productions']</td>\n",
              "      <td>NaN</td>\n",
              "      <td>NaN</td>\n",
              "    </tr>\n",
              "    <tr>\n",
              "      <th>1</th>\n",
              "      <td>1</td>\n",
              "      <td>10321</td>\n",
              "      <td>Uta no☆Prince-sama♪ Maji Love 1000%</td>\n",
              "      <td>Haruka Nanami, an aspiring composer from the c...</td>\n",
              "      <td>7.01</td>\n",
              "      <td>1255</td>\n",
              "      <td>['Comedy', 'Idols (Male)', 'Josei', 'Music', '...</td>\n",
              "      <td>2011-07-03</td>\n",
              "      <td>201991</td>\n",
              "      <td>tv</td>\n",
              "      <td>['A-1 Pictures']</td>\n",
              "      <td>NaN</td>\n",
              "      <td>NaN</td>\n",
              "    </tr>\n",
              "    <tr>\n",
              "      <th>2</th>\n",
              "      <td>2</td>\n",
              "      <td>50770</td>\n",
              "      <td>Vanitas no Karte: Le Chemin Parcouru Depuis la...</td>\n",
              "      <td>Recap of first cours of Vanitas no Karte narra...</td>\n",
              "      <td>7.01</td>\n",
              "      <td>6976</td>\n",
              "      <td>['Action', 'Fantasy', 'Historical', 'Mystery',...</td>\n",
              "      <td>2021-12-31</td>\n",
              "      <td>9062</td>\n",
              "      <td>special</td>\n",
              "      <td>['Bones']</td>\n",
              "      <td>NaN</td>\n",
              "      <td>NaN</td>\n",
              "    </tr>\n",
              "    <tr>\n",
              "      <th>3</th>\n",
              "      <td>3</td>\n",
              "      <td>37886</td>\n",
              "      <td>Wo Shi Jiang Xiaobai (2018)</td>\n",
              "      <td>Jiang Xiaobai has regained his memories, and T...</td>\n",
              "      <td>7.01</td>\n",
              "      <td>10464</td>\n",
              "      <td>['Drama', 'Love Polygon', 'Romance', 'Slice of...</td>\n",
              "      <td>2018-05-25</td>\n",
              "      <td>2986</td>\n",
              "      <td>ona</td>\n",
              "      <td>['2:10 Animation']</td>\n",
              "      <td>NaN</td>\n",
              "      <td>NaN</td>\n",
              "    </tr>\n",
              "    <tr>\n",
              "      <th>4</th>\n",
              "      <td>4</td>\n",
              "      <td>41215</td>\n",
              "      <td>Xi Xing Ji: Jijie Pian</td>\n",
              "      <td>The journey to the West was a conspiracy of he...</td>\n",
              "      <td>7.01</td>\n",
              "      <td>13158</td>\n",
              "      <td>['Action', 'Adventure', 'Fantasy', 'Historical...</td>\n",
              "      <td>2019-09-28</td>\n",
              "      <td>1300</td>\n",
              "      <td>ona</td>\n",
              "      <td>['BYMENT']</td>\n",
              "      <td>NaN</td>\n",
              "      <td>NaN</td>\n",
              "    </tr>\n",
              "  </tbody>\n",
              "</table>\n",
              "</div>"
            ],
            "text/plain": [
              "   Unnamed: 0.2  anime_id                                              title  \\\n",
              "0             0      1652                            Uchuu Senkan Yamato III   \n",
              "1             1     10321                Uta no☆Prince-sama♪ Maji Love 1000%   \n",
              "2             2     50770  Vanitas no Karte: Le Chemin Parcouru Depuis la...   \n",
              "3             3     37886                        Wo Shi Jiang Xiaobai (2018)   \n",
              "4             4     41215                             Xi Xing Ji: Jijie Pian   \n",
              "\n",
              "                                            synopsis  mean  popularity  \\\n",
              "0  A stray missile from a confrontation between t...  7.01        7756   \n",
              "1  Haruka Nanami, an aspiring composer from the c...  7.01        1255   \n",
              "2  Recap of first cours of Vanitas no Karte narra...  7.01        6976   \n",
              "3  Jiang Xiaobai has regained his memories, and T...  7.01       10464   \n",
              "4  The journey to the West was a conspiracy of he...  7.01       13158   \n",
              "\n",
              "                                              genres  start_date  \\\n",
              "0  ['Action', 'Adult Cast', 'Adventure', 'Drama',...  1980-10-11   \n",
              "1  ['Comedy', 'Idols (Male)', 'Josei', 'Music', '...  2011-07-03   \n",
              "2  ['Action', 'Fantasy', 'Historical', 'Mystery',...  2021-12-31   \n",
              "3  ['Drama', 'Love Polygon', 'Romance', 'Slice of...  2018-05-25   \n",
              "4  ['Action', 'Adventure', 'Fantasy', 'Historical...  2019-09-28   \n",
              "\n",
              "   num_list_users media_type                  studios  Unnamed: 0.1  \\\n",
              "0            6935         tv  ['Academy Productions']           NaN   \n",
              "1          201991         tv         ['A-1 Pictures']           NaN   \n",
              "2            9062    special                ['Bones']           NaN   \n",
              "3            2986        ona       ['2:10 Animation']           NaN   \n",
              "4            1300        ona               ['BYMENT']           NaN   \n",
              "\n",
              "   Unnamed: 0  \n",
              "0         NaN  \n",
              "1         NaN  \n",
              "2         NaN  \n",
              "3         NaN  \n",
              "4         NaN  "
            ]
          },
          "execution_count": 50,
          "metadata": {},
          "output_type": "execute_result"
        }
      ],
      "source": [
        "data.head()"
      ]
    },
    {
      "cell_type": "code",
      "execution_count": 51,
      "metadata": {
        "colab": {
          "base_uri": "https://localhost:8080/",
          "height": 293
        },
        "id": "Q-BN4k62SxFo",
        "outputId": "a1b35196-f660-4112-acb9-679814c7c148"
      },
      "outputs": [
        {
          "data": {
            "text/html": [
              "<div>\n",
              "<style scoped>\n",
              "    .dataframe tbody tr th:only-of-type {\n",
              "        vertical-align: middle;\n",
              "    }\n",
              "\n",
              "    .dataframe tbody tr th {\n",
              "        vertical-align: top;\n",
              "    }\n",
              "\n",
              "    .dataframe thead th {\n",
              "        text-align: right;\n",
              "    }\n",
              "</style>\n",
              "<table border=\"1\" class=\"dataframe\">\n",
              "  <thead>\n",
              "    <tr style=\"text-align: right;\">\n",
              "      <th></th>\n",
              "      <th>anime_id</th>\n",
              "      <th>title</th>\n",
              "      <th>synopsis</th>\n",
              "      <th>mean</th>\n",
              "      <th>popularity</th>\n",
              "      <th>genres</th>\n",
              "      <th>start_date</th>\n",
              "      <th>num_list_users</th>\n",
              "      <th>media_type</th>\n",
              "      <th>studios</th>\n",
              "    </tr>\n",
              "  </thead>\n",
              "  <tbody>\n",
              "    <tr>\n",
              "      <th>0</th>\n",
              "      <td>1652</td>\n",
              "      <td>Uchuu Senkan Yamato III</td>\n",
              "      <td>A stray missile from a confrontation between t...</td>\n",
              "      <td>7.01</td>\n",
              "      <td>7756</td>\n",
              "      <td>['Action', 'Adult Cast', 'Adventure', 'Drama',...</td>\n",
              "      <td>1980-10-11</td>\n",
              "      <td>6935</td>\n",
              "      <td>tv</td>\n",
              "      <td>['Academy Productions']</td>\n",
              "    </tr>\n",
              "    <tr>\n",
              "      <th>1</th>\n",
              "      <td>10321</td>\n",
              "      <td>Uta no☆Prince-sama♪ Maji Love 1000%</td>\n",
              "      <td>Haruka Nanami, an aspiring composer from the c...</td>\n",
              "      <td>7.01</td>\n",
              "      <td>1255</td>\n",
              "      <td>['Comedy', 'Idols (Male)', 'Josei', 'Music', '...</td>\n",
              "      <td>2011-07-03</td>\n",
              "      <td>201991</td>\n",
              "      <td>tv</td>\n",
              "      <td>['A-1 Pictures']</td>\n",
              "    </tr>\n",
              "    <tr>\n",
              "      <th>2</th>\n",
              "      <td>50770</td>\n",
              "      <td>Vanitas no Karte: Le Chemin Parcouru Depuis la...</td>\n",
              "      <td>Recap of first cours of Vanitas no Karte narra...</td>\n",
              "      <td>7.01</td>\n",
              "      <td>6976</td>\n",
              "      <td>['Action', 'Fantasy', 'Historical', 'Mystery',...</td>\n",
              "      <td>2021-12-31</td>\n",
              "      <td>9062</td>\n",
              "      <td>special</td>\n",
              "      <td>['Bones']</td>\n",
              "    </tr>\n",
              "    <tr>\n",
              "      <th>3</th>\n",
              "      <td>37886</td>\n",
              "      <td>Wo Shi Jiang Xiaobai (2018)</td>\n",
              "      <td>Jiang Xiaobai has regained his memories, and T...</td>\n",
              "      <td>7.01</td>\n",
              "      <td>10464</td>\n",
              "      <td>['Drama', 'Love Polygon', 'Romance', 'Slice of...</td>\n",
              "      <td>2018-05-25</td>\n",
              "      <td>2986</td>\n",
              "      <td>ona</td>\n",
              "      <td>['2:10 Animation']</td>\n",
              "    </tr>\n",
              "    <tr>\n",
              "      <th>4</th>\n",
              "      <td>41215</td>\n",
              "      <td>Xi Xing Ji: Jijie Pian</td>\n",
              "      <td>The journey to the West was a conspiracy of he...</td>\n",
              "      <td>7.01</td>\n",
              "      <td>13158</td>\n",
              "      <td>['Action', 'Adventure', 'Fantasy', 'Historical...</td>\n",
              "      <td>2019-09-28</td>\n",
              "      <td>1300</td>\n",
              "      <td>ona</td>\n",
              "      <td>['BYMENT']</td>\n",
              "    </tr>\n",
              "  </tbody>\n",
              "</table>\n",
              "</div>"
            ],
            "text/plain": [
              "   anime_id                                              title  \\\n",
              "0      1652                            Uchuu Senkan Yamato III   \n",
              "1     10321                Uta no☆Prince-sama♪ Maji Love 1000%   \n",
              "2     50770  Vanitas no Karte: Le Chemin Parcouru Depuis la...   \n",
              "3     37886                        Wo Shi Jiang Xiaobai (2018)   \n",
              "4     41215                             Xi Xing Ji: Jijie Pian   \n",
              "\n",
              "                                            synopsis  mean  popularity  \\\n",
              "0  A stray missile from a confrontation between t...  7.01        7756   \n",
              "1  Haruka Nanami, an aspiring composer from the c...  7.01        1255   \n",
              "2  Recap of first cours of Vanitas no Karte narra...  7.01        6976   \n",
              "3  Jiang Xiaobai has regained his memories, and T...  7.01       10464   \n",
              "4  The journey to the West was a conspiracy of he...  7.01       13158   \n",
              "\n",
              "                                              genres  start_date  \\\n",
              "0  ['Action', 'Adult Cast', 'Adventure', 'Drama',...  1980-10-11   \n",
              "1  ['Comedy', 'Idols (Male)', 'Josei', 'Music', '...  2011-07-03   \n",
              "2  ['Action', 'Fantasy', 'Historical', 'Mystery',...  2021-12-31   \n",
              "3  ['Drama', 'Love Polygon', 'Romance', 'Slice of...  2018-05-25   \n",
              "4  ['Action', 'Adventure', 'Fantasy', 'Historical...  2019-09-28   \n",
              "\n",
              "   num_list_users media_type                  studios  \n",
              "0            6935         tv  ['Academy Productions']  \n",
              "1          201991         tv         ['A-1 Pictures']  \n",
              "2            9062    special                ['Bones']  \n",
              "3            2986        ona       ['2:10 Animation']  \n",
              "4            1300        ona               ['BYMENT']  "
            ]
          },
          "execution_count": 51,
          "metadata": {},
          "output_type": "execute_result"
        }
      ],
      "source": [
        "data.drop(columns=['Unnamed: 0','Unnamed: 0.1','Unnamed: 0.2'], inplace=True,axis=1)\n",
        "data.head()"
      ]
    },
    {
      "cell_type": "code",
      "execution_count": 52,
      "metadata": {
        "colab": {
          "base_uri": "https://localhost:8080/",
          "height": 398
        },
        "id": "7vXJbDUATgTW",
        "outputId": "de227fce-8f91-44e4-d557-5d3d16a89b58"
      },
      "outputs": [
        {
          "data": {
            "text/plain": [
              "anime_id           0\n",
              "title              0\n",
              "synopsis          63\n",
              "mean               0\n",
              "popularity         0\n",
              "genres             0\n",
              "start_date         0\n",
              "num_list_users     0\n",
              "media_type         0\n",
              "studios            0\n",
              "dtype: int64"
            ]
          },
          "execution_count": 52,
          "metadata": {},
          "output_type": "execute_result"
        }
      ],
      "source": [
        "data.isnull().sum()\n"
      ]
    },
    {
      "cell_type": "code",
      "execution_count": 53,
      "metadata": {
        "id": "KcjHrRDwTprR"
      },
      "outputs": [],
      "source": [
        "data.dropna(inplace=True)"
      ]
    },
    {
      "cell_type": "code",
      "execution_count": 54,
      "metadata": {
        "colab": {
          "base_uri": "https://localhost:8080/",
          "height": 398
        },
        "id": "qvR_4J_-UKzO",
        "outputId": "e362d17d-c082-49c4-f058-7e97cd5589cd"
      },
      "outputs": [
        {
          "data": {
            "text/plain": [
              "anime_id          0\n",
              "title             0\n",
              "synopsis          0\n",
              "mean              0\n",
              "popularity        0\n",
              "genres            0\n",
              "start_date        0\n",
              "num_list_users    0\n",
              "media_type        0\n",
              "studios           0\n",
              "dtype: int64"
            ]
          },
          "execution_count": 54,
          "metadata": {},
          "output_type": "execute_result"
        }
      ],
      "source": [
        "data.isnull().sum()"
      ]
    },
    {
      "cell_type": "code",
      "execution_count": 55,
      "metadata": {
        "id": "Vx9R2LerUP1r"
      },
      "outputs": [],
      "source": [
        "data['jumlah_kata'] = data['synopsis'].apply(lambda x: len(x.split()))\n",
        "new_data = data[data['jumlah_kata'] > 50]\n",
        "new_data = new_data.drop(columns=['jumlah_kata'])"
      ]
    },
    {
      "cell_type": "code",
      "execution_count": 56,
      "metadata": {
        "id": "s4b_6rvkWlip"
      },
      "outputs": [],
      "source": [
        "new_data = new_data.drop(columns=['num_list_users','media_type','studios'])"
      ]
    },
    {
      "cell_type": "code",
      "execution_count": 57,
      "metadata": {
        "id": "Hrcxsyh5XSBb"
      },
      "outputs": [],
      "source": [
        "import pandas as pd\n",
        "\n",
        "def extract_year(date_str):\n",
        "\n",
        "    if date_str.isdigit() and len(date_str) == 4:\n",
        "        return date_str\n",
        "    else:\n",
        "        try:\n",
        "            return pd.to_datetime(date_str).year\n",
        "        except ValueError:\n",
        "            return None\n",
        "\n",
        "new_data['rilis_tahun'] = new_data['start_date'].apply(extract_year)\n",
        "\n"
      ]
    },
    {
      "cell_type": "code",
      "execution_count": 58,
      "metadata": {
        "id": "S2S5miZzZCGU"
      },
      "outputs": [],
      "source": [
        "new_data = new_data.drop(columns=['start_date'])\n",
        "new_data = new_data.sort_values(by='popularity',ascending=True)"
      ]
    },
    {
      "cell_type": "code",
      "execution_count": 59,
      "metadata": {
        "colab": {
          "base_uri": "https://localhost:8080/",
          "height": 206
        },
        "id": "T54V8J7rZPst",
        "outputId": "888b3f33-8ac6-468e-8e80-9e59b507777a"
      },
      "outputs": [
        {
          "data": {
            "text/html": [
              "<div>\n",
              "<style scoped>\n",
              "    .dataframe tbody tr th:only-of-type {\n",
              "        vertical-align: middle;\n",
              "    }\n",
              "\n",
              "    .dataframe tbody tr th {\n",
              "        vertical-align: top;\n",
              "    }\n",
              "\n",
              "    .dataframe thead th {\n",
              "        text-align: right;\n",
              "    }\n",
              "</style>\n",
              "<table border=\"1\" class=\"dataframe\">\n",
              "  <thead>\n",
              "    <tr style=\"text-align: right;\">\n",
              "      <th></th>\n",
              "      <th>anime_id</th>\n",
              "      <th>title</th>\n",
              "      <th>synopsis</th>\n",
              "      <th>mean</th>\n",
              "      <th>popularity</th>\n",
              "      <th>genres</th>\n",
              "      <th>rilis_tahun</th>\n",
              "    </tr>\n",
              "  </thead>\n",
              "  <tbody>\n",
              "    <tr>\n",
              "      <th>4016</th>\n",
              "      <td>16498</td>\n",
              "      <td>Shingeki no Kyojin</td>\n",
              "      <td>Centuries ago, mankind was slaughtered to near...</td>\n",
              "      <td>8.55</td>\n",
              "      <td>1</td>\n",
              "      <td>['Action', 'Award Winning', 'Drama', 'Gore', '...</td>\n",
              "      <td>2013</td>\n",
              "    </tr>\n",
              "    <tr>\n",
              "      <th>3990</th>\n",
              "      <td>1535</td>\n",
              "      <td>Death Note</td>\n",
              "      <td>Brutal murders, petty thefts, and senseless vi...</td>\n",
              "      <td>8.62</td>\n",
              "      <td>2</td>\n",
              "      <td>['Psychological', 'Shounen', 'Supernatural', '...</td>\n",
              "      <td>2006</td>\n",
              "    </tr>\n",
              "    <tr>\n",
              "      <th>3901</th>\n",
              "      <td>5114</td>\n",
              "      <td>Fullmetal Alchemist: Brotherhood</td>\n",
              "      <td>After a horrific alchemy experiment goes wrong...</td>\n",
              "      <td>9.10</td>\n",
              "      <td>3</td>\n",
              "      <td>['Action', 'Adventure', 'Drama', 'Fantasy', 'M...</td>\n",
              "      <td>2009</td>\n",
              "    </tr>\n",
              "    <tr>\n",
              "      <th>4046</th>\n",
              "      <td>30276</td>\n",
              "      <td>One Punch Man</td>\n",
              "      <td>The seemingly unimpressive Saitama has a rathe...</td>\n",
              "      <td>8.49</td>\n",
              "      <td>4</td>\n",
              "      <td>['Action', 'Adult Cast', 'Comedy', 'Parody', '...</td>\n",
              "      <td>2015</td>\n",
              "    </tr>\n",
              "    <tr>\n",
              "      <th>4062</th>\n",
              "      <td>38000</td>\n",
              "      <td>Kimetsu no Yaiba</td>\n",
              "      <td>Ever since the death of his father, the burden...</td>\n",
              "      <td>8.45</td>\n",
              "      <td>5</td>\n",
              "      <td>['Action', 'Award Winning', 'Historical', 'Sho...</td>\n",
              "      <td>2019</td>\n",
              "    </tr>\n",
              "  </tbody>\n",
              "</table>\n",
              "</div>"
            ],
            "text/plain": [
              "      anime_id                             title  \\\n",
              "4016     16498                Shingeki no Kyojin   \n",
              "3990      1535                        Death Note   \n",
              "3901      5114  Fullmetal Alchemist: Brotherhood   \n",
              "4046     30276                     One Punch Man   \n",
              "4062     38000                  Kimetsu no Yaiba   \n",
              "\n",
              "                                               synopsis  mean  popularity  \\\n",
              "4016  Centuries ago, mankind was slaughtered to near...  8.55           1   \n",
              "3990  Brutal murders, petty thefts, and senseless vi...  8.62           2   \n",
              "3901  After a horrific alchemy experiment goes wrong...  9.10           3   \n",
              "4046  The seemingly unimpressive Saitama has a rathe...  8.49           4   \n",
              "4062  Ever since the death of his father, the burden...  8.45           5   \n",
              "\n",
              "                                                 genres rilis_tahun  \n",
              "4016  ['Action', 'Award Winning', 'Drama', 'Gore', '...        2013  \n",
              "3990  ['Psychological', 'Shounen', 'Supernatural', '...        2006  \n",
              "3901  ['Action', 'Adventure', 'Drama', 'Fantasy', 'M...        2009  \n",
              "4046  ['Action', 'Adult Cast', 'Comedy', 'Parody', '...        2015  \n",
              "4062  ['Action', 'Award Winning', 'Historical', 'Sho...        2019  "
            ]
          },
          "execution_count": 59,
          "metadata": {},
          "output_type": "execute_result"
        }
      ],
      "source": [
        "new_data.head()"
      ]
    },
    {
      "cell_type": "markdown",
      "metadata": {},
      "source": [
        "# <p style=\"font-size: 24px;\">TEXT PREPROCESSING.</p>\n"
      ]
    },
    {
      "cell_type": "code",
      "execution_count": 60,
      "metadata": {
        "id": "x7JymEOOZTUo"
      },
      "outputs": [],
      "source": [
        "def label_era(year):\n",
        "    if pd.isna(year):\n",
        "        return None\n",
        "    year = int(year)\n",
        "    if year >= 2020:\n",
        "        return \"2020's\"\n",
        "    elif year >= 2010:\n",
        "        return \"2010's\"\n",
        "    elif year >= 2000:\n",
        "        return \"2000's\"\n",
        "    elif year >= 1990:\n",
        "        return \"1990's\"\n",
        "    elif year >= 1980:\n",
        "        return \"1980's\"\n",
        "    elif year >= 1970:\n",
        "        return \"1970's\"\n",
        "    else:\n",
        "        return \"sebelum 1970's\"\n",
        "\n",
        "new_data['era'] = new_data['rilis_tahun'].apply(label_era)"
      ]
    },
    {
      "cell_type": "code",
      "execution_count": 61,
      "metadata": {
        "id": "v7TD3C9RZ4xx"
      },
      "outputs": [],
      "source": [
        "import re\n",
        "\n",
        "def extract_genres_consistent(genres_str):\n",
        "    genres = re.findall(r'[A-Za-z]+(?:[- ][A-Za-z]+)*', genres_str)\n",
        "    genres = [genre.lower() for genre in genres]\n",
        "    genres = sorted(set(genres))\n",
        "    return genres\n",
        "\n",
        "new_data['genres_list'] = new_data['genres'].apply(extract_genres_consistent)"
      ]
    },
    {
      "cell_type": "code",
      "execution_count": 62,
      "metadata": {
        "colab": {
          "base_uri": "https://localhost:8080/"
        },
        "id": "Abl6mBb4aGbm",
        "outputId": "a88aaebe-d8ea-476a-9f6d-10bc1697e3de"
      },
      "outputs": [
        {
          "data": {
            "text/plain": [
              "77"
            ]
          },
          "execution_count": 62,
          "metadata": {},
          "output_type": "execute_result"
        }
      ],
      "source": [
        "\n",
        "genre_counts = {}\n",
        "for index in new_data.index:\n",
        "    for genre in new_data.loc[index, 'genres_list']:\n",
        "        if genre in genre_counts:\n",
        "            genre_counts[genre] += 1\n",
        "        else:\n",
        "            genre_counts[genre] = 1\n",
        "len(genre_counts)\n"
      ]
    },
    {
      "cell_type": "code",
      "execution_count": 63,
      "metadata": {
        "id": "3TpfJ1tSalBa"
      },
      "outputs": [],
      "source": [
        "new_data = new_data.drop(columns=['genres','rilis_tahun'])"
      ]
    },
    {
      "cell_type": "code",
      "execution_count": 64,
      "metadata": {
        "id": "xKkxRjPvateC"
      },
      "outputs": [
        {
          "data": {
            "text/plain": [
              "4016    centuries ago, mankind was slaughtered to near...\n",
              "3990    brutal murders, petty thefts, and senseless vi...\n",
              "3901    after a horrific alchemy experiment goes wrong...\n",
              "4046    the seemingly unimpressive saitama has a rathe...\n",
              "4062    ever since the death of his father, the burden...\n",
              "                              ...                        \n",
              "3560    zheng shaopeng, a high school student, dozed o...\n",
              "1132    the first demon came to earth at the very begi...\n",
              "579     the goddess of the machine god descended to ea...\n",
              "829     a few years after the anshi rebellion, the tib...\n",
              "1388    i often fall into the fantasy upon her back. w...\n",
              "Name: synopsis, Length: 4481, dtype: object"
            ]
          },
          "execution_count": 64,
          "metadata": {},
          "output_type": "execute_result"
        }
      ],
      "source": [
        "new_data['synopsis'] = new_data['synopsis'].apply(str.lower)\n",
        "new_data['synopsis'] "
      ]
    },
    {
      "cell_type": "code",
      "execution_count": 65,
      "metadata": {},
      "outputs": [
        {
          "data": {
            "text/plain": [
              "'a stray missile from a confrontation between the galman empire and the bolar federation crashes into the sun, turning it into a time bomb of radiation. the star force once again sets off into space, this time on a quest to look for a new world for the human race. \\n\\n(source: ann) '"
            ]
          },
          "execution_count": 65,
          "metadata": {},
          "output_type": "execute_result"
        }
      ],
      "source": [
        "new_data['synopsis'][0]"
      ]
    },
    {
      "cell_type": "code",
      "execution_count": 66,
      "metadata": {},
      "outputs": [],
      "source": [
        "import re\n",
        "\n",
        "def clean_sinopsis(text):\n",
        "    text = str(text)\n",
        "    # Menghapus bagian '[Written by MAL Rewrite]'\n",
        "    text = re.sub(r'\\[Written by MAL Rewrite\\]', '', text)\n",
        "\n",
        "    # Menghapus bagian '(Source: Official site, translated)' atau format sejenis\n",
        "    text = re.sub(r'\\(Source: [^\\)]+\\)', '', text)\n",
        "\n",
        "    # Menghapus informasi yang ditulis dalam tanda kurung siku atau lainnya yang bersifat kredensial\n",
        "    text = re.sub(r'\\[.*?\\]', '', text)  # Menghapus teks dalam tanda kurung siku []\n",
        "\n",
        "    #menghapus text dalam tanda parenthesses\n",
        "    text = re.sub(r'\\(.*?\\)', '', text)\n",
        "\n",
        "\n",
        "    # Menangani newline atau spasi berlebih yang mungkin ditinggalkan\n",
        "    text = re.sub(r'\\s+', ' ', text).strip()\n",
        "\n",
        "    return text\n",
        "\n",
        "new_data['synopsis'] = new_data['synopsis'].apply(clean_sinopsis)\n"
      ]
    },
    {
      "cell_type": "code",
      "execution_count": 67,
      "metadata": {},
      "outputs": [],
      "source": [
        "# Menghapus tanda baca\n",
        "import string\n",
        "\n",
        "new_data['synopsis'] = new_data['synopsis'].str.translate(str.maketrans('', '', string.punctuation))"
      ]
    },
    {
      "cell_type": "code",
      "execution_count": 68,
      "metadata": {},
      "outputs": [
        {
          "data": {
            "text/plain": [
              "'a stray missile from a confrontation between the galman empire and the bolar federation crashes into the sun turning it into a time bomb of radiation the star force once again sets off into space this time on a quest to look for a new world for the human race'"
            ]
          },
          "execution_count": 68,
          "metadata": {},
          "output_type": "execute_result"
        }
      ],
      "source": [
        "new_data['synopsis'][0]"
      ]
    },
    {
      "cell_type": "code",
      "execution_count": 69,
      "metadata": {},
      "outputs": [],
      "source": [
        "# mengapus angka dalam text\n",
        "def hapus_angka(text):\n",
        "    return ''.join([i for i in text if not i.isdigit()])\n",
        "\n",
        "new_data['synopsis'] = new_data['synopsis'].apply(hapus_angka)"
      ]
    },
    {
      "cell_type": "code",
      "execution_count": 70,
      "metadata": {},
      "outputs": [],
      "source": [
        "def clean_text(text):\n",
        "    text = str(text)\n",
        "    text = re.sub(r'[^\\w\\s]', '', text)\n",
        "    return text\n",
        "\n",
        "new_data['synopsis'] = new_data['synopsis'].apply(clean_text)"
      ]
    },
    {
      "cell_type": "code",
      "execution_count": 71,
      "metadata": {},
      "outputs": [],
      "source": [
        "anime_specific_stopwords = {\n",
        "    # Tetap karena filler umum dalam narasi anime\n",
        "    'protagonist', 'antagonist', 'character', 'group', 'friends', 'team', 'companion', 'sidekick',\n",
        "    'journey', 'quest', 'mission', 'adventure', 'battle', 'fight', 'war', 'conflict',\n",
        "    'story', 'plot', 'arc', 'episode', 'part', 'chapter','a','an'\n",
        "    # 'first', 'second', 'third', 'fourth', 'fifth', 'sixth', 'seventh', 'eighth', 'ninth', 'tenth',\n",
        "    'follows', 'continues', 'begins', 'starts', 'revolves', 'focuses', 'explores', 'introduces', 'tells',\n",
        "    'discovers', 'embarks', 'returns', 'takes place', 'centers around','on','of','the'\n",
        "    'faced', 'forced', 'must',\n",
        "\n",
        "    # Dihapus karena relevan dalam beberapa konteks\n",
        "    # 'tries', 'seeks', 'aims', 'struggles',\n",
        "\n",
        "    'season', 'series', 'volume', 'show', 'animation',\n",
        "\n",
        "    # Dihapus karena dapat relevan dengan elemen cerita\n",
        "    # 'powerful', 'unknown', 'secret', 'hidden',\n",
        "\n",
        "    'normal', 'ordinary', 'typical',\n",
        "\n",
        "    # Tetap, terlalu umum\n",
        "    'city', 'town', 'village',\n",
        "    'years', 'months', 'days', 'hours', 'minutes', 'seconds',\n",
        "    'year', 'month', 'day', 'hour', 'minute', 'second',\n",
        "\n",
        "    # Dihapus karena numerik bisa relevan\n",
        "    'two', 'three', 'four', 'five', 'six', 'seven', 'eight', 'nine', 'ten',\n",
        "}\n"
      ]
    },
    {
      "cell_type": "code",
      "execution_count": 72,
      "metadata": {},
      "outputs": [
        {
          "name": "stderr",
          "output_type": "stream",
          "text": [
            "[nltk_data] Downloading package punkt_tab to\n",
            "[nltk_data]     C:\\Users\\mocha\\AppData\\Roaming\\nltk_data...\n",
            "[nltk_data]   Package punkt_tab is already up-to-date!\n",
            "[nltk_data] Downloading package punkt to\n",
            "[nltk_data]     C:\\Users\\mocha\\AppData\\Roaming\\nltk_data...\n",
            "[nltk_data]   Package punkt is already up-to-date!\n",
            "[nltk_data] Downloading package stopwords to\n",
            "[nltk_data]     C:\\Users\\mocha\\AppData\\Roaming\\nltk_data...\n",
            "[nltk_data]   Package stopwords is already up-to-date!\n"
          ]
        }
      ],
      "source": [
        "import nltk\n",
        "nltk.download('punkt_tab')\n",
        "nltk.download('punkt')\n",
        "nltk.download('stopwords')\n",
        "from nltk.corpus import stopwords\n",
        "stop_words = set(stopwords.words('english'))\n",
        "from nltk.tokenize import word_tokenize\n",
        "\n",
        "all_stopwords = stop_words.union(anime_specific_stopwords)\n",
        "def remove_stopwords(text):\n",
        "    words = word_tokenize(text)\n",
        "    filtered_words = [word for word in words if word.lower() not in all_stopwords]\n",
        "    return \" \".join(filtered_words)"
      ]
    },
    {
      "cell_type": "code",
      "execution_count": 73,
      "metadata": {},
      "outputs": [],
      "source": [
        "new_data['synopsis']=  new_data['synopsis'].apply(remove_stopwords)"
      ]
    },
    {
      "cell_type": "code",
      "execution_count": 74,
      "metadata": {},
      "outputs": [
        {
          "name": "stderr",
          "output_type": "stream",
          "text": [
            "[nltk_data] Downloading package wordnet to\n",
            "[nltk_data]     C:\\Users\\mocha\\AppData\\Roaming\\nltk_data...\n",
            "[nltk_data]   Package wordnet is already up-to-date!\n",
            "[nltk_data] Downloading package omw-1.4 to\n",
            "[nltk_data]     C:\\Users\\mocha\\AppData\\Roaming\\nltk_data...\n",
            "[nltk_data]   Package omw-1.4 is already up-to-date!\n",
            "[nltk_data] Downloading package averaged_perceptron_tagger_eng to\n",
            "[nltk_data]     C:\\Users\\mocha\\AppData\\Roaming\\nltk_data...\n",
            "[nltk_data]   Package averaged_perceptron_tagger_eng is already up-to-\n",
            "[nltk_data]       date!\n"
          ]
        }
      ],
      "source": [
        "from nltk.stem import WordNetLemmatizer\n",
        "from nltk.corpus import wordnet\n",
        "from nltk import pos_tag\n",
        "\n",
        "\n",
        "nltk.download('wordnet')\n",
        "nltk.download('omw-1.4')\n",
        "nltk.download('averaged_perceptron_tagger_eng')\n",
        "lemmatizer = WordNetLemmatizer()\n",
        "def get_wordnet_pos(tag):\n",
        "    if tag.startswith('V'):\n",
        "        return wordnet.VERB\n",
        "    elif tag.startswith('N'):\n",
        "        return wordnet.NOUN\n",
        "    elif tag.startswith('R'):\n",
        "        return wordnet.ADV\n",
        "    else:\n",
        "        return wordnet.NOUN\n",
        "\n",
        "def lemmatize_text(text):\n",
        "    text_token = word_tokenize(text)\n",
        "    tagged_words = pos_tag(text_token)\n",
        "    lemmatized_words = [lemmatizer.lemmatize(word, get_wordnet_pos(tag)) for word, tag in tagged_words]\n",
        "    return lemmatized_words"
      ]
    },
    {
      "cell_type": "code",
      "execution_count": 75,
      "metadata": {},
      "outputs": [],
      "source": [
        "new_data['synopsis'] = new_data['synopsis'].apply(lemmatize_text)"
      ]
    },
    {
      "cell_type": "code",
      "execution_count": 76,
      "metadata": {},
      "outputs": [
        {
          "data": {
            "text/plain": [
              "['stray',\n",
              " 'missile',\n",
              " 'confrontation',\n",
              " 'galman',\n",
              " 'empire',\n",
              " 'bolar',\n",
              " 'federation',\n",
              " 'crash',\n",
              " 'sun',\n",
              " 'turn',\n",
              " 'time',\n",
              " 'bomb',\n",
              " 'radiation',\n",
              " 'star',\n",
              " 'force',\n",
              " 'set',\n",
              " 'space',\n",
              " 'time',\n",
              " 'look',\n",
              " 'new',\n",
              " 'world',\n",
              " 'human',\n",
              " 'race']"
            ]
          },
          "execution_count": 76,
          "metadata": {},
          "output_type": "execute_result"
        }
      ],
      "source": [
        "new_data['synopsis'][0]"
      ]
    },
    {
      "cell_type": "code",
      "execution_count": 77,
      "metadata": {},
      "outputs": [],
      "source": [
        "def join_word(text):\n",
        "    return ' '.join(text)"
      ]
    },
    {
      "cell_type": "code",
      "execution_count": 78,
      "metadata": {},
      "outputs": [],
      "source": [
        "new_data = new_data.reset_index()"
      ]
    },
    {
      "cell_type": "code",
      "execution_count": 79,
      "metadata": {},
      "outputs": [],
      "source": [
        "new_data['synopsis'] = new_data['synopsis'].apply(join_word)"
      ]
    },
    {
      "cell_type": "code",
      "execution_count": 80,
      "metadata": {},
      "outputs": [],
      "source": [
        "new_data['tags'] = new_data['synopsis'] + \" \" + new_data['genres_list'].apply(lambda x: ', '.join(x)) + \" \" + new_data['era']\n"
      ]
    },
    {
      "cell_type": "markdown",
      "metadata": {},
      "source": [
        "# <p style=\"font-size: 24px;\">THRESHOLD SUBSET ANIME HIDDEN_GEM.</p>\n"
      ]
    },
    {
      "cell_type": "code",
      "execution_count": 81,
      "metadata": {},
      "outputs": [],
      "source": [
        "from sklearn.preprocessing import MinMaxScaler\n",
        "\n",
        "scaler = MinMaxScaler()\n",
        "scaler.fit(new_data[['popularity','mean']])\n",
        "new_data[['inverse_popularity','mean_norm']] = scaler.transform(new_data[['popularity','mean']])\n"
      ]
    },
    {
      "cell_type": "code",
      "execution_count": 82,
      "metadata": {},
      "outputs": [
        {
          "data": {
            "text/plain": [
              "1017"
            ]
          },
          "execution_count": 82,
          "metadata": {},
          "output_type": "execute_result"
        }
      ],
      "source": [
        "threshold_pop = new_data['inverse_popularity'].quantile(0.11)\n",
        "threshold_mean = new_data['mean'].quantile(0.7)\n",
        "\n",
        "hidden_gem = new_data[(new_data['inverse_popularity'] >= threshold_pop) & (new_data['mean'] >= threshold_mean)]\n",
        "\n",
        "hidden_gem = hidden_gem.sort_values(by='popularity', ascending=False)\n",
        "hidden_gem.reset_index(drop=True, inplace=True)\n",
        "len(hidden_gem)\n"
      ]
    },
    {
      "cell_type": "code",
      "execution_count": 83,
      "metadata": {},
      "outputs": [],
      "source": [
        "hidden_gem = hidden_gem.sort_values(by='popularity', ascending=True)"
      ]
    },
    {
      "cell_type": "code",
      "execution_count": 84,
      "metadata": {},
      "outputs": [],
      "source": [
        "new_data = new_data.drop(columns=['mean', 'popularity','inverse_popularity','mean_norm'])"
      ]
    },
    {
      "cell_type": "code",
      "execution_count": 85,
      "metadata": {},
      "outputs": [],
      "source": [
        "hidden_gem = hidden_gem.drop(columns=['mean', 'popularity','inverse_popularity','mean_norm'])"
      ]
    },
    {
      "cell_type": "code",
      "execution_count": 86,
      "metadata": {},
      "outputs": [],
      "source": [
        "new_data = new_data.drop(columns=['index'])"
      ]
    },
    {
      "cell_type": "code",
      "execution_count": 87,
      "metadata": {},
      "outputs": [],
      "source": [
        "hidden_gem = hidden_gem.drop(columns=['index'])"
      ]
    },
    {
      "cell_type": "code",
      "execution_count": 88,
      "metadata": {},
      "outputs": [],
      "source": [
        "hidden_gem.to_csv('subset_hg.csv',index=False)"
      ]
    },
    {
      "cell_type": "code",
      "execution_count": 89,
      "metadata": {},
      "outputs": [],
      "source": [
        "import pickle\n",
        "\n",
        "pickle.dump(new_data ,open('anime_list.pkl','wb'))\n",
        "pickle.dump(hidden_gem,open('hidden_gem_list.pkl','wb'))\n"
      ]
    },
    {
      "cell_type": "markdown",
      "metadata": {},
      "source": [
        "# <p style=\"font-size: 24px;\">MODEL</p>\n"
      ]
    },
    {
      "cell_type": "code",
      "execution_count": 90,
      "metadata": {},
      "outputs": [],
      "source": [
        "vec = TfidfVectorizer(max_features=5000)"
      ]
    },
    {
      "cell_type": "code",
      "execution_count": 91,
      "metadata": {},
      "outputs": [],
      "source": [
        "vector1 = vec.fit_transform(new_data['tags'].values.astype('U')).toarray()"
      ]
    },
    {
      "cell_type": "code",
      "execution_count": 92,
      "metadata": {},
      "outputs": [
        {
          "data": {
            "text/plain": [
              "(4481, 5000)"
            ]
          },
          "execution_count": 92,
          "metadata": {},
          "output_type": "execute_result"
        }
      ],
      "source": [
        "vector1.shape"
      ]
    },
    {
      "cell_type": "code",
      "execution_count": 93,
      "metadata": {},
      "outputs": [],
      "source": [
        "similiary = cosine_similarity(vector1)"
      ]
    },
    {
      "cell_type": "code",
      "execution_count": 94,
      "metadata": {},
      "outputs": [],
      "source": [
        "from scipy.spatial import distance\n",
        "import numpy as np\n",
        "\n",
        "binary_matrix = (vector1 > 0).astype(int)\n",
        "\n",
        "jacard_dist = distance.pdist(binary_matrix, metric='jaccard')\n",
        "jaccard_sim_matrix = 1 - distance.squareform(jacard_dist)\n"
      ]
    },
    {
      "cell_type": "code",
      "execution_count": 118,
      "metadata": {},
      "outputs": [
        {
          "name": "stdout",
          "output_type": "stream",
          "text": [
            "1. Naruto: Shippuuden Movie 4 - The Lost Tower ,\n",
            " Skor: 0.3836296395121555\n",
            "2. Naruto: Shippuuden Movie 6 - Road to Ninja ,\n",
            " Skor: 0.36871876050839275\n",
            "3. Naruto: Shippuuden ,\n",
            " Skor: 0.3548952269612205\n",
            "4. Naruto: Shippuuden Movie 2 - Kizuna ,\n",
            " Skor: 0.3363566890533218\n",
            "5. Naruto: Takigakure no Shitou - Ore ga Eiyuu Dattebayo! ,\n",
            " Skor: 0.30646262071350017\n",
            "6. Naruto Movie 2: Dai Gekitotsu! Maboroshi no Chiteiiseki Dattebayo! ,\n",
            " Skor: 0.28915508374569093\n",
            "7. Boruto: Naruto the Movie ,\n",
            " Skor: 0.2796487301747636\n",
            "8. Naruto: Shippuuden Movie 3 - Hi no Ishi wo Tsugu Mono ,\n",
            " Skor: 0.26323046961124297\n",
            "9. Naruto: Shippuuden Movie 5 - Blood Prison ,\n",
            " Skor: 0.25918446248965554\n"
          ]
        }
      ],
      "source": [
        "anime_idx = 8\n",
        "sorted_similarity = sorted(\n",
        "    [(idx, sim) for idx, sim in enumerate(similiary[anime_idx])],  # Ambil semua pasangan (index, similarity)\n",
        "    key=lambda x: x[1],  # Urutkan berdasarkan similarity\n",
        "    reverse=True  # Urutkan dari yang paling tinggi\n",
        ")\n",
        "sorted_similarity= sorted_similarity[1:10]\n",
        "anime_indices = [i[0] for i in sorted_similarity]\n",
        "skor = [i[1] for i in sorted_similarity]\n",
        "rekomen_anime  = new_data.iloc[anime_indices]['title'].values\n",
        "for i,anime in enumerate(rekomen_anime, start=1):\n",
        "        print(f\"{i}. {anime} ,\\n Skor: {skor[i-1]}\")# Cetak hasil\n",
        "\n"
      ]
    },
    {
      "cell_type": "code",
      "execution_count": 96,
      "metadata": {},
      "outputs": [
        {
          "data": {
            "text/plain": [
              "array([[1.        , 0.05403548, 0.06019925, ..., 0.01496654, 0.05463241,\n",
              "        0.01830543],\n",
              "       [0.05403548, 1.        , 0.05231771, ..., 0.06892249, 0.        ,\n",
              "        0.06219664],\n",
              "       [0.06019925, 0.05231771, 1.        , ..., 0.03369965, 0.03361944,\n",
              "        0.02105125],\n",
              "       ...,\n",
              "       [0.01496654, 0.06892249, 0.03369965, ..., 1.        , 0.0396224 ,\n",
              "        0.01179174],\n",
              "       [0.05463241, 0.        , 0.03361944, ..., 0.0396224 , 1.        ,\n",
              "        0.        ],\n",
              "       [0.01830543, 0.06219664, 0.02105125, ..., 0.01179174, 0.        ,\n",
              "        1.        ]])"
            ]
          },
          "execution_count": 96,
          "metadata": {},
          "output_type": "execute_result"
        }
      ],
      "source": [
        "similiary"
      ]
    },
    {
      "cell_type": "code",
      "execution_count": 97,
      "metadata": {},
      "outputs": [
        {
          "data": {
            "text/plain": [
              "8"
            ]
          },
          "execution_count": 97,
          "metadata": {},
          "output_type": "execute_result"
        }
      ],
      "source": [
        "new_data[new_data['title'] == 'Naruto'].index[0]"
      ]
    },
    {
      "cell_type": "code",
      "execution_count": 105,
      "metadata": {},
      "outputs": [
        {
          "name": "stdout",
          "output_type": "stream",
          "text": [
            "Naruto\n",
            "Naruto: Takigakure no Shitou - Ore ga Eiyuu Dattebayo!\n",
            "Naruto: Shippuuden Movie 1\n",
            "Bouken Ou Beet\n",
            "Bouken Ou Beet Excellion\n",
            "Naruto: Shippuuden Movie 3 - Hi no Ishi wo Tsugu Mono\n",
            "Naruto: Honoo no Chuunin Shiken! Naruto vs. Konohamaru!!\n",
            "Shi Cao Lao Long Bei Guan Yi E Long Zhi Ming\n",
            "Nabari no Ou\n",
            "Nanatsu no Taizai Movie 1: Tenkuu no Torawarebito\n"
          ]
        }
      ],
      "source": [
        "distance = sorted(list(enumerate(jaccard_sim_matrix[8])), reverse=True, key=lambda vector1:vector1[1])\n",
        "for i in distance[:10]:\n",
        "    print(new_data.iloc[i[0]].title)"
      ]
    },
    {
      "cell_type": "code",
      "execution_count": 99,
      "metadata": {},
      "outputs": [],
      "source": [
        "pickle.dump(similiary,open('model_similiarity.pkl','wb'))\n",
        "pickle.dump(jaccard_sim_matrix,open('model_jaccurd.pkl','wb'))"
      ]
    },
    {
      "cell_type": "code",
      "execution_count": 100,
      "metadata": {},
      "outputs": [
        {
          "data": {
            "text/plain": [
              "10589"
            ]
          },
          "execution_count": 100,
          "metadata": {},
          "output_type": "execute_result"
        }
      ],
      "source": [
        "new_data.iloc[i[0]].anime_id"
      ]
    }
  ],
  "metadata": {
    "colab": {
      "provenance": []
    },
    "kernelspec": {
      "display_name": "base",
      "language": "python",
      "name": "python3"
    },
    "language_info": {
      "codemirror_mode": {
        "name": "ipython",
        "version": 3
      },
      "file_extension": ".py",
      "mimetype": "text/x-python",
      "name": "python",
      "nbconvert_exporter": "python",
      "pygments_lexer": "ipython3",
      "version": "3.11.11"
    }
  },
  "nbformat": 4,
  "nbformat_minor": 0
}
